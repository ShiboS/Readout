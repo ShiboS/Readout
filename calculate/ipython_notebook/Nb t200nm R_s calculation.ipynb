{
 "cells": [
  {
   "cell_type": "code",
   "execution_count": 1,
   "metadata": {
    "collapsed": false
   },
   "outputs": [],
   "source": [
    "import matplotlib\n",
    "import numpy as np\n",
    "%matplotlib inline\n",
    "from scipy import *\n",
    "from scipy import integrate\n",
    "\n",
    "\n",
    "from classy import Class\n",
    "\n",
    "\n",
    "import matplotlib.pyplot as plt"
   ]
  },
  {
   "cell_type": "code",
   "execution_count": 2,
   "metadata": {
    "collapsed": false
   },
   "outputs": [
    {
     "name": "stdout",
     "output_type": "stream",
     "text": [
      "0.0013257680102 eV\n"
     ]
    }
   ],
   "source": [
    "#####################################################\n",
    "#\n",
    "# Environment part      \n",
    "#\n",
    "#####################################################\n",
    "global h_bar\n",
    "global k_B\n",
    "global mu_0\n",
    "global epsilon_0\n",
    "global T_c\n",
    "h_bar = 1.05457173*10**(-34)      # 1.05457173 × 10-34 m^2 kg / s   6.58211928(15)×10−16 eV·s\n",
    "k_B = 1.3806488*10**(-23)         # 1.3806488×10−23 J|K-1  8.6173324×10-5 eV|K−1 \n",
    "mu_0 = 4*pi*10**(-7)              # 4*pi*10**(-7)  1.25663706\n",
    "epsilon_0 = 8.854187817*10**(-12) # 8.854187817*10**(-12)\n",
    "T_c = 9.2                        # Kelvin\n",
    "\n",
    "Rho_c = 2.5 * 10**(-8)            # (Ohm m) MBE(0.1*10^-8) Sputtering(2*10^-8)\n",
    "Rho_g = 2.5 * 10**(-8)            # (Ohm m) MBE(0.1*10^-8) Sputtering(2*10^-8)\n",
    "global sigma_cn\n",
    "global sigma_gn\n",
    "global delta_0\n",
    "\n",
    "sigma_cn = 1/Rho_c                # Normal state metal conductivity Al_bulk=3.56*10**7 (S/m)\n",
    "sigma_gn = 1/Rho_g                # Normal state metal conductivity Al_bulk=3.56*10**7 (S/m)\n",
    "delta_0 = 1.67*k_B*T_c  #1.674*k_B * T_c #+ 0*1j        # Calculation of delta_0 from Tc relation of BCS (eV)\n",
    "Thickness = 0.2 * 10**(-6)\n",
    "\n",
    "print delta_0/1.6/10**(-19), \"eV\"\n",
    "#global delta_T\n",
    "#delta_T = 177.0*10**(-6)         # Al (eV)"
   ]
  },
  {
   "cell_type": "code",
   "execution_count": 7,
   "metadata": {
    "collapsed": false
   },
   "outputs": [
    {
     "name": "stdout",
     "output_type": "stream",
     "text": [
      "0.00443745328066 0.0114754283184\n",
      "7.06242624357e-14 7.0629024262e-14\n",
      "2.02153914052e-70 2.78961890797e-70\n"
     ]
    },
    {
     "data": {
      "image/png": "[encoded data removed]",
      "text/plain": [
       "<matplotlib.figure.Figure at 0x10e87bfd0>"
      ]
     },
     "metadata": {},
     "output_type": "display_data"
    }
   ],
   "source": [
    "#####################################################\n",
    "#\n",
    "# MB part\n",
    "#\n",
    "#####################################################\n",
    "temperature = 0.1\n",
    "freq = np.linspace(10*10**9, 170*10**9, num=1000)\n",
    "omegaall = 2.*pi*freq  \n",
    "def f(T, E):\n",
    "    if E/k_B/T > 709:\n",
    "        return 0\n",
    "    else:\n",
    "        return 1.0/(np.exp(E/(k_B *T)) + 1.0)\n",
    "def g1(omega, E):\n",
    "    return (E**2 + delta_0**2 + h_bar*omega*E) / ((E**2-delta_0**2)**0.5*((E+h_bar*omega)**2-delta_0**2)**0.5)\n",
    "def g1_1(omega, E):\n",
    "    if h_bar*omega > 2*delta_0:\n",
    "        return (E**2 + delta_0**2 + h_bar*omega*E) / ((E**2-delta_0**2)**0.5*((E+h_bar*omega)**2-delta_0**2)**0.5)\n",
    "    else:\n",
    "        return 0\n",
    "def g2(omega, E):\n",
    "    return (E**2 + delta_0**2 + h_bar*omega*E) / ((delta_0**2-E**2)**0.5*((E+h_bar*omega)**2-delta_0**2)**0.5)\n",
    "def fsigma1(T, omega):\n",
    "    sigma_1_1i = lambda E: (2.0/h_bar/omega) * (f(T, E)-f(T, E+h_bar*omega)) * g1(omega, E)\n",
    "    sigma_1_2i = lambda E: (1.0/h_bar/omega) * (1.0-2.0*f(T, E+h_bar*omega)) * g1_1(omega, E)\n",
    "    sigma_1_1, error11 = integrate.quad(sigma_1_1i, delta_0, 158.*k_B*T)\n",
    "    sigma_1_2, error12 = integrate.quad(sigma_1_2i, min(delta_0-h_bar*omega, -delta_0), -delta_0)\n",
    "    sigma_1 = sigma_1_1 - sigma_1_2\n",
    "    return sigma_1\n",
    "def fsigma2(T, omega):\n",
    "    sigma_2i = lambda E: (1.0/h_bar/omega) * (1.0-2.0*f(T, E+h_bar*omega)) * g2(omega, E)\n",
    "    sigma_2, error2 =  integrate.quad(sigma_2i, max(delta_0-h_bar*omega, -delta_0), delta_0)\n",
    "    return sigma_2\n",
    "sigma_so = np.array([fsigma1(temperature, ome)-1j*fsigma2(temperature, ome) for ome in omegaall])\n",
    "#sigma_so = fsigma1(temperature, omega)-1j*fsigma2(temperature, omega)\n",
    "\n",
    "sigma_s = sigma_so * sigma_gn\n",
    "Z_s = np.sqrt(mu_0*omegaall*1j/sigma_s)*1.0/np.tanh(Thickness * np.sqrt(1j*mu_0*omegaall*sigma_s))\n",
    "R_s = Z_s.real\n",
    "X_s = Z_s.imag\n",
    "L_s = X_s/omegaall\n",
    "#plt.plot(freq, R_s)\n",
    "plt.plot(freq, X_s)\n",
    "#plt.yscale(\"log\")\n",
    "print X_s[0],X_s[99]\n",
    "print L_s[0],L_s[49]\n",
    "print R_s[0],R_s[49]"
   ]
  },
  {
   "cell_type": "code",
   "execution_count": null,
   "metadata": {
    "collapsed": false
   },
   "outputs": [],
   "source": []
  },
  {
   "cell_type": "code",
   "execution_count": null,
   "metadata": {
    "collapsed": true
   },
   "outputs": [],
   "source": []
  }
 ],
 "metadata": {
  "kernelspec": {
   "display_name": "Python 2",
   "language": "python",
   "name": "python2"
  },
  "language_info": {
   "codemirror_mode": {
    "name": "ipython",
    "version": 2
   },
   "file_extension": ".py",
   "mimetype": "text/x-python",
   "name": "python",
   "nbconvert_exporter": "python",
   "pygments_lexer": "ipython2",
   "version": "2.7.10"
  }
 },
 "nbformat": 4,
 "nbformat_minor": 0
}
