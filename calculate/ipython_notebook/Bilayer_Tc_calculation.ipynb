{
 "cells": [
  {
   "cell_type": "code",
   "execution_count": 16,
   "metadata": {
    "collapsed": true
   },
   "outputs": [],
   "source": [
    "import scipy.constants as constants\n",
    "import numpy as np\n",
    "k_b = constants.physical_constants[\"Boltzmann constant in eV/K\"]"
   ]
  },
  {
   "cell_type": "code",
   "execution_count": 34,
   "metadata": {
    "collapsed": false
   },
   "outputs": [
    {
     "name": "stdout",
     "output_type": "stream",
     "text": [
      "3.15457413249 0.118679644518 40.4746443215\n"
     ]
    }
   ],
   "source": [
    "Temp_super = 9.2 # 9.2K for Nb\n",
    "Thick_super = 20e-9 # m\n",
    "Thick_normal = 160e-9 # m\n",
    "Density_super = 0.317*10**29 # states/(eVm3) # http://arxiv.org/pdf/0711.4221.pdf\n",
    "Density_normal = 0.125*10**29 # states/(eVm3)\n",
    "Lambda_f = 0.462e-9 # m\n",
    "t = 0.0708 # factor\n",
    "\n",
    "### Bilayer Tc calculation\n",
    "alpha = Thick_normal * Density_normal / Thick_super / Density_super\n",
    "Thick_zero = 1.0/(np.pi / 2.0 * k_b[0] * Temp_super * Lambda_f**2 * Density_super)\n",
    "T_c = Temp_super * (Thick_super/Thick_zero/(1.13*(1.0+1.0/alpha))/t)**alpha\n",
    "\n",
    "print alpha, Thick_zero*1e6, T_c"
   ]
  },
  {
   "cell_type": "code",
   "execution_count": 14,
   "metadata": {
    "collapsed": false
   },
   "outputs": [
    {
     "name": "stdout",
     "output_type": "stream",
     "text": [
      "8.6173324e-05\n"
     ]
    }
   ],
   "source": [
    "k_b = scipy.physical_constants[\"Boltzmann constant in eV/K\"]\n",
    "print a[0]"
   ]
  },
  {
   "cell_type": "code",
   "execution_count": 40,
   "metadata": {
    "collapsed": false
   },
   "outputs": [
    {
     "name": "stdout",
     "output_type": "stream",
     "text": [
      "1.4367816092 1.18169107297 0.0515875727596\n"
     ]
    }
   ],
   "source": [
    "Temp_super = 1.01 # 9.2K for Nb\n",
    "Thick_super = 60e-9 # m\n",
    "Thick_normal = 200e-9 # m\n",
    "Density_super = 0.29*10**29 # states/(eVm3) \n",
    "Density_normal = 0.125*10**29 # states/(eVm3)\n",
    "Lambda_f = 0.462e-9 # m\n",
    "t = 0.21 # factor\n",
    "\n",
    "### Bilayer Tc calculation\n",
    "alpha = Thick_normal * Density_normal / Thick_super / Density_super\n",
    "Thick_zero = 1.0/(np.pi / 2.0 * k_b[0] * Temp_super * Lambda_f**2 * Density_super)\n",
    "T_c = Temp_super * (Thick_super/Thick_zero/(1.13*(1.0+1.0/alpha))/t)**alpha\n",
    "\n",
    "print alpha, Thick_zero*1e6, T_c # 1.18 0.093mK"
   ]
  },
  {
   "cell_type": "code",
   "execution_count": null,
   "metadata": {
    "collapsed": true
   },
   "outputs": [],
   "source": []
  }
 ],
 "metadata": {
  "kernelspec": {
   "display_name": "Python 2",
   "language": "python",
   "name": "python2"
  },
  "language_info": {
   "codemirror_mode": {
    "name": "ipython",
    "version": 2
   },
   "file_extension": ".py",
   "mimetype": "text/x-python",
   "name": "python",
   "nbconvert_exporter": "python",
   "pygments_lexer": "ipython2",
   "version": "2.7.10"
  }
 },
 "nbformat": 4,
 "nbformat_minor": 0
}
