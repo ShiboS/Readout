{
 "metadata": {
  "name": "",
  "signature": "sha256:804daef70412391a9db75849ebd9b9eda0396c31d818a0ee82451d553afdff33"
 },
 "nbformat": 3,
 "nbformat_minor": 0,
 "worksheets": [
  {
   "cells": [
    {
     "cell_type": "code",
     "collapsed": false,
     "input": [
      "from scipy import *\n",
      "from scipy.special import ellipk # Elliptic integral\n",
      "from scipy.special import iv # Modified Bessel function of the first kind of real order I_0\n",
      "from scipy.special import kn # Modified Bessel function of the second kind of integer order n K_0\n",
      "\n",
      "import numpy as np"
     ],
     "language": "python",
     "metadata": {},
     "outputs": [],
     "prompt_number": 16
    },
    {
     "cell_type": "code",
     "collapsed": false,
     "input": [
      "# Environment and material parameters\n",
      "T = 0.2 # (K)\n",
      "freq = 120 # Frequency (GHz)\n",
      "h_bar = 6.58211928*10**(-16)  # 1.05457173 \u00d7 10-34 m^2 kg / s   6.58211928(15)\u00d710\u221216 eV\u00b7s\n",
      "k_B = 8.6173324*10**(-5) # 1.3806488\u00d710\u221223 J|K-1  8.6173324\u00d710-5 eV|K\u22121 \n",
      "mu_0 = 4*pi*10**(-7) # 4*pi*10**(-7)  1.25663706\n",
      "epsilon_0 = 8.854187817*10**(-12) # 8.854187817*10**(-12)\n",
      "\n",
      "# Material\n",
      "Rho_c = 0.1 * 10**(-8) # (Ohm m) MBE(0.1*10^-8) Sputtering(2*10^-8)\n",
      "Rho_g = 0.1 * 10**(-8) # (Ohm m) MBE(0.1*10^-8) Sputtering(2*10^-8)\n",
      "T_c = 1.2 # Critical temperature (K)\n",
      "\n",
      "# Parameters definition\n",
      "epsilon = 11.9 # Dielectronic paramter of material\n",
      "CPW_C = 3.0 *10**(-6)# Width of CPW central trace (m)\n",
      "CPW_G = 2.0 *10**(-6)# Width of CPW gap (m)\n",
      "\n",
      "# CPW_I = 50.0 # CPW impedance (Ohm)\n",
      "T_C = 130 *10**(-9)# Thickness of central trace (m)\n",
      "T_G = 130 *10**(-9)# Thickness of ground (m)\n",
      "\n",
      "# Rho_C = 2.2 # Normal resistivity of central trace (micro Ohm cm)\n",
      "# Rho_G = 0.28 # Normal resistivity of ground (micro Ohm cm)\n",
      "#Sheet_C = Rho_c/T_C #0.46 # Sheet impedance of central trace (Ohm)\n",
      "#Sheet_G = Rho_g/T_G #0.13 # Sheet impedance of ground (Ohm)\n",
      "\n",
      "# Parameter calculation\n",
      "omega = 2.0*pi*freq*(10**9) # Angular frequency\n",
      "sigma_cn = 1/Rho_c # Normal state metal conductivity Al_bulk=3.56*10**7 (S/m)\n",
      "sigma_gn = 1/Rho_g # Normal state metal conductivity Al_bulk=3.56*10**7 (S/m)\n",
      "delta_0 = 1.674*k_B * T_c # Calculation of delta_0 from Tc relation of BCS (eV)\n",
      "delta_T = 177.0*10**(-6) # Al (eV)"
     ],
     "language": "python",
     "metadata": {},
     "outputs": [],
     "prompt_number": 17
    },
    {
     "cell_type": "code",
     "collapsed": false,
     "input": [
      "# CPW geometry part\n",
      "# Elliptic integral part\n",
      "k = CPW_C / (CPW_C+CPW_G*2) # CPW k parameter\n",
      "k_prime = np.sqrt(1-k*k) # CPW k_prime parameter\n",
      "\n",
      "# The definition of elliptic integral function is different. In scipy it is m number, but here is modulus k\n",
      "K_k = ellipk(k*k) \n",
      "K_k_prime = ellipk(k_prime*k_prime)\n",
      "\n",
      "# Inductance, capcitance and impedance\n",
      "\n",
      "L_g = mu_0*K_k_prime/K_k/4.0 # Geometric inductance\n",
      "L_k = 0.0\n",
      "L = L_g + L_k\n",
      "epsilon_eff = (1.0+epsilon)/2.0\n",
      "C_l = 4.0*epsilon_0*epsilon_eff*K_k/K_k_prime\n",
      "Z = np.sqrt(L/C_l)\n",
      "\n",
      "print \"CPW impedance = \",Z,\"Ohm\""
     ],
     "language": "python",
     "metadata": {},
     "outputs": [
      {
       "output_type": "stream",
       "stream": "stdout",
       "text": [
        "CPW impedance =  51.5570509213 Ohm\n"
       ]
      }
     ],
     "prompt_number": 18
    },
    {
     "cell_type": "code",
     "collapsed": false,
     "input": [
      "# Sheet impedance part\n",
      "print \"Delta_0 =\",delta_0*10**(6),\"ueV\"\n",
      "print \"Delta_T =\",delta_T*10**(6),\"ueV\"\n",
      "\n",
      "# MB: assume delta_T = delta_0\n",
      "\n",
      "# sigma_c Central trace\n",
      "sigma_c1 = sigma_cn * (2.0*delta_0/h_bar/omega) * (e**(-delta_0/k_B/T)) * (e**(h_bar*omega/2.0/k_B/T)) * (kn(0, h_bar*omega/2.0/k_B/T)) * (1.0-(e**(-h_bar*omega/2.0/k_B/T)))\n",
      "# Upper is Mazin version the same with lower\n",
      "# Visser version sigma_1 = sigma_n * (4.0*delta_T/h_bar/omega) * (e**(-delta_0/k_B/T)) * (kn(0, h_bar*omega/2.0/k_B/T)) * np.sinh(h_bar*omega/2.0/k_B/T)\n",
      "sigma_c2 = sigma_cn * (pi*delta_0/h_bar/omega) * (1.0-2*(e**(-delta_0/k_B/T))) * (e**(-h_bar*omega/2.0/k_B/T)) * (iv(0, h_bar*omega/2.0/k_B/T))\n",
      "\n",
      "# sigma_g Ground\n",
      "sigma_g1 = sigma_gn * (2.0*delta_0/h_bar/omega) * (e**(-delta_0/k_B/T)) * (e**(h_bar*omega/2.0/k_B/T)) * (kn(0, h_bar*omega/2.0/k_B/T)) * (1.0-(e**(-h_bar*omega/2.0/k_B/T)))\n",
      "# Upper is Mazin version the same with lower\n",
      "# Visser version sigma_1 = sigma_n * (4.0*delta_T/h_bar/omega) * (e**(-delta_0/k_B/T)) * (kn(0, h_bar*omega/2.0/k_B/T)) * np.sinh(h_bar*omega/2.0/k_B/T)\n",
      "sigma_g2 = sigma_gn * (pi*delta_0/h_bar/omega) * (1.0-2*(e**(-delta_0/k_B/T))) * (e**(-h_bar*omega/2.0/k_B/T)) * (iv(0, h_bar*omega/2.0/k_B/T))\n",
      "\n",
      "# Surface conductivity\n",
      "sigma_cs = complex(sigma_c1, -sigma_c2)\n",
      "sigma_gs = complex(sigma_g1, -sigma_g2)\n",
      "\n",
      "print sigma_c1/sigma_cn\n",
      "print \"Comlex conductivity c= \",sigma_cs.real,\" \",sigma_cs.imag,\"j\"\n",
      "print \"Comlex conductivity g= \",sigma_gs.real,\" \",sigma_gs.imag,\"j\"\n",
      "\n",
      "# Sheet resistance: Central trace and ground\n",
      "Z_sc = np.sqrt(mu_0*omega*1j/sigma_cs)*1.0/np.tanh(T_C * np.sqrt(mu_0*omega*sigma_cs))\n",
      "Z_sg = np.sqrt(mu_0*omega*1j/sigma_gs)*1.0/np.tanh(T_G * np.sqrt(mu_0*omega*sigma_gs))\n",
      "print \"Sheet resistance of Central trace =\",Z_sc,\"Ohm\"\n",
      "print np.tanh(T_C * np.sqrt(mu_0*omega*sigma_cs))\n",
      "print \"Sheet resistance of Ground plane =\",Z_sg,\"Ohm\""
     ],
     "language": "python",
     "metadata": {},
     "outputs": [
      {
       "output_type": "stream",
       "stream": "stdout",
       "text": [
        "Delta_0 = 173.104973251 ueV\n",
        "Delta_T = 177.0 ueV\n",
        "9.92712389078e-06\n",
        "Comlex conductivity c=  9927.12389078   -116243854.926 j\n",
        "Comlex conductivity g=  9927.12389078   -116243854.926 j\n",
        "Sheet resistance of Central trace = (-0.0218609443555+0.0786984238577j) Ohm\n",
        "(1.06499633215-0.295884967075j)\n",
        "Sheet resistance of Ground plane = (-0.0218609443555+0.0786984238577j) Ohm\n"
       ]
      }
     ],
     "prompt_number": 21
    },
    {
     "cell_type": "code",
     "collapsed": false,
     "input": [
      "# Final\n",
      "# Geometry factors of central trace and ground, valid if (T_C < CPW_C/20.0) and (k<0.8)\n",
      "if (T_C < CPW_C/20.0) and (k<0.8):\n",
      "    g_c = 1.0/(4.0*CPW_C*(1.0-k*k)*(K_k**2.0))*(pi+np.log(4.0*pi*CPW_C/T_C)-k*np.log((1.0+k)/(1.0-k)))\n",
      "    g_g = k/(4.0*CPW_C*(1.0-k*k)*(K_k**2.0))*(pi+np.log(4.0*pi*(CPW_C+2*CPW_G)/T_G)-(1.0/k)*np.log((1.0+k)/(1.0-k)))\n",
      "else:\n",
      "    print \"error\"\n",
      "\n",
      "# Attenuation constant\n",
      "alpha = (Z_sc.real*g_c + Z_sg.real*g_g)/(2.0 * Z)\n",
      "power_attenuation = 20.0*np.log10(e**(-alpha/1000.0))\n",
      "\n",
      "print \"Impedance of CPW line = \",Z,\"Ohm\"\n",
      "print \"Attenuation constant =\",alpha,\"/m\"\n",
      "print \"Power attenuation =\",power_attenuation,\"dB/mm\"\n",
      "print \"-3dB length =\",300/(alpha*log10(e)),\"mm\"\n",
      "print \"-10dB length =\",1000/(alpha*log10(e)),\"mm\"\n",
      "print \"-20dB length =\",2000/(alpha*log10(e)),\"mm\"\n",
      "print \"Attenuation percentage of central trace =\",Z_sc.real*g_c/(Z_sc.real*g_c + Z_sg.real*g_g)*100,\"%\""
     ],
     "language": "python",
     "metadata": {},
     "outputs": [
      {
       "output_type": "stream",
       "stream": "stdout",
       "text": [
        "Impedance of CPW line =  51.5570509213 Ohm\n",
        "Attenuation constant = -92.3751463184 /m\n",
        "Power attenuation = 0.802360326221 dB/mm\n",
        "-3dB length = -7.47793703641 mm\n",
        "-10dB length = -24.926456788 mm\n",
        "-20dB length = -49.8529135761 mm\n",
        "Attenuation percentage of central trace = 72.3124116411 %\n"
       ]
      }
     ],
     "prompt_number": 11
    },
    {
     "cell_type": "code",
     "collapsed": false,
     "input": [],
     "language": "python",
     "metadata": {},
     "outputs": [],
     "prompt_number": 61
    },
    {
     "cell_type": "code",
     "collapsed": false,
     "input": [],
     "language": "python",
     "metadata": {},
     "outputs": []
    }
   ],
   "metadata": {}
  }
 ]
}