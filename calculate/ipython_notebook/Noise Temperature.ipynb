{
 "cells": [
  {
   "cell_type": "code",
   "execution_count": 1,
   "metadata": {
    "collapsed": false
   },
   "outputs": [],
   "source": [
    "import math as m\n",
    "\n",
    "# 295K stage\n",
    "\n",
    "T0 = 295\n",
    "\n",
    "Temp0 = 295.        # Line loss outside\n",
    "GaindB0 = -0.3\n",
    "Gain0 = 10**(GaindB0/10.)\n",
    "Te0 = Temp0*(1.0/Gain0 - 1)\n",
    "F0 = 1 + Te0/T0\n",
    "\n",
    "Temp1 = 295.        # Line loss inside\n",
    "GaindB1 = -3.8\n",
    "Gain1 = 10**(GaindB1/10.)\n",
    "Te1 = Temp1*(1.0/Gain1 - 1)\n",
    "F1 = 1 + Te1/T0\n",
    "\n",
    "# 40K stage\n",
    "Temp2 = 40.        # Line loss \n",
    "GaindB2 = -2.3\n",
    "Gain2 = 10**(GaindB2/10.)\n",
    "Te2 = Temp2*(1.0/Gain2 - 1)\n",
    "F2 = 1 + Te2/T0\n",
    "\n",
    "Temp3 = 40.        # DC Block\n",
    "GaindB3 = -0.5\n",
    "Gain3 = 10**(GaindB3/10.)\n",
    "Te3 = Temp3*(1.0/Gain3 - 1)\n",
    "F3 = 1 + Te3/T0\n",
    "\n",
    "# 4K stage\n",
    "Temp4 = 4.        # Atten\n",
    "GaindB4 = -9\n",
    "Gain4 = 10**(GaindB4/10.)\n",
    "Te4 = Temp4*(1.0/Gain4 - 1)\n",
    "F4 = 1 + Te4/T0\n",
    "\n",
    "Temp5 = 4.\n",
    "GaindB5 = -0.5        # DC Block\n",
    "Gain5 = 10**(GaindB5/10.)\n",
    "Te5 = Temp5*(1.0/Gain5 - 1)\n",
    "F5 = 1 + Te5/T0\n",
    "\n",
    "Temp6 = 4.\n",
    "GaindB6 = -6.        # Line loss \n",
    "Gain6 = 10**(GaindB6/10.)\n",
    "Te6 = Temp6*(1.0/Gain6 - 1)\n",
    "F6 = 1 + Te6/T0\n",
    "\n",
    "Temp7 = 4.        # Atten\n",
    "GaindB7 = -6.\n",
    "Gain7 = 10**(GaindB7/10.)\n",
    "Te7 = Temp7*(1.0/Gain7 - 1)\n",
    "F7 = 1 + Te7/T0\n",
    "\n",
    "# 1K stage\n",
    "Temp8 = 1.        # Line loss \n",
    "GaindB8 = -6.\n",
    "Gain8 = 10**(GaindB8/10.)\n",
    "Te8 = Temp8*(1.0/Gain8 - 1)\n",
    "F8 = 1 + Te8/T0\n",
    "\n",
    "# 0.1K stage\n",
    "Temp9 = 0.1\n",
    "GaindB9 = -20\n",
    "Gain9 = 10**(GaindB9/10.)\n",
    "Te9 = Temp9*(1.0/Gain9 - 1)\n",
    "F9 = 1 + Te9/T0\n",
    "\n",
    "Gain = Gain0*Gain1*Gain2*Gain3*Gain4*Gain5*Gain6*Gain7*Gain8*Gain9\n",
    "GaindB = GaindB0 + GaindB1 + GaindB2 + GaindB3 + GaindB4 + GaindB5 + GaindB6 + GaindB7 + GaindB8 + GaindB9\n",
    "k = 1.38*10**(-23)\n"
   ]
  },
  {
   "cell_type": "code",
   "execution_count": 2,
   "metadata": {
    "collapsed": false
   },
   "outputs": [
    {
     "name": "stdout",
     "output_type": "stream",
     "text": [
      "Gain is  3.6307805477e-06\n",
      "Gain is  -54.4\n",
      "21.0981950451 412.655711111 27.9297460985 4.88073817208 27.773129389 0.488073817208 11.9242868221 11.9242868221 2.98107170553 9.9\n",
      "1.07151930524 2.39883291902 1.09467710542 1.01654487516 1.09414620132 1.00165448752 1.04042131126 1.04042131126 1.01010532782 1.03355932203\n"
     ]
    }
   ],
   "source": [
    "print \"Gain is \", Gain\n",
    "print \"Gain is \", GaindB\n",
    "print Te0, Te1, Te2, Te3, Te4, Te5, Te6, Te7, Te8, Te9\n",
    "print F0, F1, F2, F3, F4, F5, F6, F7, F8, F9"
   ]
  },
  {
   "cell_type": "code",
   "execution_count": 3,
   "metadata": {
    "collapsed": false
   },
   "outputs": [],
   "source": [
    "Ftot = F0 \\\n",
    "     + (F1-1)/Gain0 \\\n",
    "     + (F2-1)/Gain0/Gain1 \\\n",
    "     + (F3-1)/Gain0/Gain1/Gain2 \\\n",
    "     + (F4-1)/Gain0/Gain1/Gain2/Gain3 \\\n",
    "     + (F5-1)/Gain0/Gain1/Gain2/Gain3/Gain4 \\\n",
    "     + (F6-1)/Gain0/Gain1/Gain2/Gain3/Gain4/Gain5 \\\n",
    "     + (F7-1)/Gain0/Gain1/Gain2/Gain3/Gain4/Gain5/Gain6 \\\n",
    "     + (F8-1)/Gain0/Gain1/Gain2/Gain3/Gain4/Gain5/Gain6/Gain7 \\\n",
    "     + (F9-1)/Gain0/Gain1/Gain2/Gain3/Gain4/Gain5/Gain6/Gain7/Gain8\n",
    "FdB = 10 * m.log10(Ftot)"
   ]
  },
  {
   "cell_type": "code",
   "execution_count": 4,
   "metadata": {
    "collapsed": true
   },
   "outputs": [],
   "source": [
    "Tetot = Te0 \\\n",
    "      + Te1/Gain0 \\\n",
    "      + Te2/Gain0/Gain1 \\\n",
    "      + Te3/Gain0/Gain1/Gain2 \\\n",
    "      + Te4/Gain0/Gain1/Gain2/Gain3 \\\n",
    "      + Te5/Gain0/Gain1/Gain2/Gain3/Gain4 \\\n",
    "      + Te6/Gain0/Gain1/Gain2/Gain3/Gain4/Gain5 \\\n",
    "      + Te7/Gain0/Gain1/Gain2/Gain3/Gain4/Gain5/Gain6 \\\n",
    "      + Te8/Gain0/Gain1/Gain2/Gain3/Gain4/Gain5/Gain6/Gain7 \\\n",
    "      + Te9/Gain0/Gain1/Gain2/Gain3/Gain4/Gain5/Gain6/Gain7/Gain8"
   ]
  },
  {
   "cell_type": "code",
   "execution_count": 5,
   "metadata": {
    "collapsed": false
   },
   "outputs": [
    {
     "name": "stdout",
     "output_type": "stream",
     "text": [
      "Fcas is 111.621549419\n",
      "Fcas is 20.4774804667 dB\n",
      "Tcas is 32633.3570787 K\n"
     ]
    }
   ],
   "source": [
    "print \"Fcas is\", Ftot\n",
    "print \"Fcas is\", FdB, \"dB\"\n",
    "print \"Tcas is\", Tetot, \"K\""
   ]
  },
  {
   "cell_type": "code",
   "execution_count": 7,
   "metadata": {
    "collapsed": false
   },
   "outputs": [
    {
     "name": "stdout",
     "output_type": "stream",
     "text": [
      "Output noise power  1.64986780922e-21 W/ 1000\n",
      "Output noise power  -177.82550851 dBm/ 1000\n"
     ]
    }
   ],
   "source": [
    "B = 1000\n",
    "No = Gain * (T0 + Tetot) * k * B\n",
    "NodBm = 10*m.log10(No)+30\n",
    "print \"Output noise power \", No, \"W/\",B\n",
    "print \"Output noise power \", NodBm, \"dBm/\",B"
   ]
  },
  {
   "cell_type": "code",
   "execution_count": 8,
   "metadata": {
    "collapsed": false
   },
   "outputs": [
    {
     "name": "stdout",
     "output_type": "stream",
     "text": [
      "Signal power is  4.54411327686e-17 W\n",
      "Signal power is  -133.42550851 dBm\n",
      "Input SNR  11162.1549419\n",
      "For 1KHz Signal power is  4.54411327686e-14 W\n",
      "For 1KHz Signal power is  -103.42550851 dBm\n"
     ]
    }
   ],
   "source": [
    "# Given output SNRo, calculate needed input signal power S\n",
    "SNRo = 100\n",
    "Si = SNRo * No / Gain\n",
    "SdBm = 10*m.log10(Si)+30\n",
    "Ni = T0*k*B\n",
    "SNRi = Si/Ni\n",
    "Si1k = Si*1000\n",
    "SdBm1k = 10*m.log10(Si1k)+30\n",
    "\n",
    "print \"Signal power is \", Si, \"W\"\n",
    "print \"Signal power is \", SdBm, \"dBm\"\n",
    "print \"Input SNR \", SNRi\n",
    "\n",
    "print \"For 1KHz Signal power is \", Si1k, \"W\"\n",
    "print \"For 1KHz Signal power is \", SdBm1k, \"dBm\""
   ]
  },
  {
   "cell_type": "code",
   "execution_count": 9,
   "metadata": {
    "collapsed": false
   },
   "outputs": [
    {
     "name": "stdout",
     "output_type": "stream",
     "text": [
      "4.071e-21\n"
     ]
    }
   ],
   "source": [
    "print Ni"
   ]
  },
  {
   "cell_type": "code",
   "execution_count": null,
   "metadata": {
    "collapsed": true
   },
   "outputs": [],
   "source": []
  }
 ],
 "metadata": {
  "kernelspec": {
   "display_name": "Python 2",
   "language": "python",
   "name": "python2"
  },
  "language_info": {
   "codemirror_mode": {
    "name": "ipython",
    "version": 2
   },
   "file_extension": ".py",
   "mimetype": "text/x-python",
   "name": "python",
   "nbconvert_exporter": "python",
   "pygments_lexer": "ipython2",
   "version": "2.7.10"
  }
 },
 "nbformat": 4,
 "nbformat_minor": 0
}
