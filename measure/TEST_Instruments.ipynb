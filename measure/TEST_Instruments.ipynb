{
 "cells": [
  {
   "cell_type": "code",
   "execution_count": 2,
   "metadata": {
    "collapsed": false
   },
   "outputs": [
    {
     "data": {
      "text/plain": [
       "(u'ASRL1::INSTR',\n",
       " u'GPIB0::10::INSTR',\n",
       " u'GPIB0::11::INSTR',\n",
       " u'GPIB0::12::INSTR',\n",
       " u'GPIB0::19::INSTR')"
      ]
     },
     "execution_count": 2,
     "metadata": {},
     "output_type": "execute_result"
    }
   ],
   "source": [
    "import visa\n",
    "import numpy as np\n",
    "rm = visa.ResourceManager()\n",
    "rm.list_resources()"
   ]
  },
  {
   "cell_type": "code",
   "execution_count": 2,
   "metadata": {
    "collapsed": false
   },
   "outputs": [
    {
     "name": "stdout",
     "output_type": "stream",
     "text": [
      "LSCI,MODEL350,350A01W/#######,1.1\r\n",
      "\n"
     ]
    }
   ],
   "source": [
    "# Set inst with GPIB address\n",
    "inst = rm.open_resource('GPIB0::12::INSTR')\n",
    "\n",
    "# Check the instrument name\n",
    "print(inst.query(\"*IDN?\"))"
   ]
  },
  {
   "cell_type": "code",
   "execution_count": 12,
   "metadata": {
    "collapsed": false
   },
   "outputs": [
    {
     "name": "stdout",
     "output_type": "stream",
     "text": [
      "+0.07379\r\n",
      "\n"
     ]
    }
   ],
   "source": [
    "print(inst.query('KRDG?'))"
   ]
  },
  {
   "cell_type": "code",
   "execution_count": 23,
   "metadata": {
    "collapsed": false
   },
   "outputs": [
    {
     "name": "stdout",
     "output_type": "stream",
     "text": [
      "+0050.0,+0020.0,+000.0\r\n",
      "\n"
     ]
    }
   ],
   "source": [
    "print(inst.query('PID?'))"
   ]
  },
  {
   "cell_type": "code",
   "execution_count": null,
   "metadata": {
    "collapsed": false
   },
   "outputs": [],
   "source": [
    "# Set PID value of Output 2\n",
    "# P: 0.1 to 9999, Propotional(gain)\n",
    "# I: 0.1 to 1000, Integral(reset)\n",
    "# D: 0 to 200, Derivative(rate)\n",
    "inst.write('PID 2,')"
   ]
  },
  {
   "cell_type": "code",
   "execution_count": 37,
   "metadata": {
    "collapsed": false
   },
   "outputs": [
    {
     "name": "stdout",
     "output_type": "stream",
     "text": [
      "0\r\n",
      "\n",
      "2\r\n",
      "\n",
      "1\r\n",
      "\n",
      "0\r\n",
      "\n"
     ]
    }
   ],
   "source": [
    "print(inst.query('RANGE? 1'))\n",
    "print(inst.query('RANGE? 2'))\n",
    "print(inst.query('RANGE? 3'))\n",
    "print(inst.query('RANGE? 4'))"
   ]
  },
  {
   "cell_type": "code",
   "execution_count": 46,
   "metadata": {
    "collapsed": false
   },
   "outputs": [
    {
     "data": {
      "text/plain": [
       "(11L, <StatusCode.success: 0>)"
      ]
     },
     "execution_count": 46,
     "metadata": {},
     "output_type": "execute_result"
    }
   ],
   "source": [
    "inst.write('RANGE 2,0')"
   ]
  },
  {
   "cell_type": "code",
   "execution_count": 44,
   "metadata": {
    "collapsed": false
   },
   "outputs": [
    {
     "data": {
      "text/plain": [
       "(13L, <StatusCode.success: 0>)"
      ]
     },
     "execution_count": 44,
     "metadata": {},
     "output_type": "execute_result"
    }
   ],
   "source": [
    "inst.write('SETP 2,0.09')"
   ]
  },
  {
   "cell_type": "code",
   "execution_count": 45,
   "metadata": {
    "collapsed": false
   },
   "outputs": [
    {
     "name": "stdout",
     "output_type": "stream",
     "text": [
      "+0.00000\r\n",
      "\n",
      "+0.09000\r\n",
      "\n",
      "+00.0000\r\n",
      "\n",
      "+00.0000\r\n",
      "\n"
     ]
    }
   ],
   "source": [
    "print(inst.query('SETP? 1'))\n",
    "print(inst.query('SETP? 2'))\n",
    "print(inst.query('SETP? 3'))\n",
    "print(inst.query('SETP? 4'))"
   ]
  },
  {
   "cell_type": "code",
   "execution_count": null,
   "metadata": {
    "collapsed": false
   },
   "outputs": [],
   "source": []
  }
 ],
 "metadata": {
  "kernelspec": {
   "display_name": "Python 2",
   "language": "python",
   "name": "python2"
  },
  "language_info": {
   "codemirror_mode": {
    "name": "ipython",
    "version": 2
   },
   "file_extension": ".py",
   "mimetype": "text/x-python",
   "name": "python",
   "nbconvert_exporter": "python",
   "pygments_lexer": "ipython2",
   "version": "2.7.10"
  }
 },
 "nbformat": 4,
 "nbformat_minor": 0
}
